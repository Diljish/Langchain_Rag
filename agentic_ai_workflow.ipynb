{
 "cells": [
  {
   "cell_type": "markdown",
   "id": "7c0ce45a",
   "metadata": {},
   "source": [
    "## Load environment data"
   ]
  },
  {
   "cell_type": "code",
   "execution_count": 1,
   "id": "7faac4c2",
   "metadata": {},
   "outputs": [],
   "source": [
    "from dotenv import load_dotenv\n",
    "load_dotenv()\n",
    "import os"
   ]
  },
  {
   "cell_type": "markdown",
   "id": "b6c948d7",
   "metadata": {},
   "source": [
    "## Model Configuration"
   ]
  },
  {
   "cell_type": "code",
   "execution_count": 2,
   "id": "a05d3c7b",
   "metadata": {},
   "outputs": [],
   "source": [
    "from langchain_groq import ChatGroq\n",
    "model=ChatGroq(model=\"gemma2-9b-it\")"
   ]
  },
  {
   "cell_type": "markdown",
   "id": "eb33fe7a",
   "metadata": {},
   "source": [
    "## Embedding model Configuration"
   ]
  },
  {
   "cell_type": "code",
   "execution_count": 3,
   "id": "f658a220",
   "metadata": {},
   "outputs": [
    {
     "name": "stderr",
     "output_type": "stream",
     "text": [
      "C:\\Users\\User\\AppData\\Roaming\\Python\\Python313\\site-packages\\tqdm\\auto.py:21: TqdmWarning: IProgress not found. Please update jupyter and ipywidgets. See https://ipywidgets.readthedocs.io/en/stable/user_install.html\n",
      "  from .autonotebook import tqdm as notebook_tqdm\n"
     ]
    }
   ],
   "source": [
    "from langchain_huggingface import HuggingFaceEmbeddings\n",
    "embeddings=HuggingFaceEmbeddings(model_name=\"all-MiniLM-L6-v2\")"
   ]
  },
  {
   "cell_type": "markdown",
   "id": "f93d9af3",
   "metadata": {},
   "source": [
    "## Load Llama pdf"
   ]
  },
  {
   "cell_type": "code",
   "execution_count": 4,
   "id": "0054daea",
   "metadata": {},
   "outputs": [],
   "source": [
    "from langchain.document_loaders import PyPDFLoader\n",
    "loader = PyPDFLoader(\"C:/Users/User/Desktop/AgenticAI2/data/llama2.pdf\")\n",
    "llama_documents = loader.load()"
   ]
  },
  {
   "cell_type": "markdown",
   "id": "4f7f0a9c",
   "metadata": {},
   "source": [
    "### Chunk using RecursiveTextCharacter spliter"
   ]
  },
  {
   "cell_type": "code",
   "execution_count": 5,
   "id": "ba4a4afe",
   "metadata": {},
   "outputs": [],
   "source": [
    "from langchain.text_splitter import RecursiveCharacterTextSplitter\n",
    "text_splitter=RecursiveCharacterTextSplitter(\n",
    "    chunk_size=500,\n",
    "    chunk_overlap=100,\n",
    "    separators=[\"\\n\\n\", \"\\n\", \".\", \" \",\"\"],\n",
    ")\n",
    "llama_chunk_docs=text_splitter.split_documents(llama_documents)"
   ]
  },
  {
   "cell_type": "markdown",
   "id": "cb3d7359",
   "metadata": {},
   "source": [
    "### Add data into Chroma vector DB"
   ]
  },
  {
   "cell_type": "code",
   "execution_count": 6,
   "id": "b05dc299",
   "metadata": {},
   "outputs": [],
   "source": [
    "from langchain_community.vectorstores import Chroma\n",
    "db=Chroma.from_documents(llama_chunk_docs,embeddings)"
   ]
  },
  {
   "cell_type": "code",
   "execution_count": 162,
   "id": "f024e720",
   "metadata": {},
   "outputs": [],
   "source": [
    "retriever=db.as_retriever(search_kwargs={\"k\":3})"
   ]
  },
  {
   "cell_type": "code",
   "execution_count": 163,
   "id": "71daf569",
   "metadata": {},
   "outputs": [
    {
     "data": {
      "text/plain": [
       "[Document(metadata={'producer': 'pdfTeX-1.40.25', 'author': '', 'creationdate': '2023-07-20T00:30:36+00:00', 'moddate': '2023-07-20T00:30:36+00:00', 'total_pages': 77, 'page_label': '77', 'ptex.fullbanner': 'This is pdfTeX, Version 3.141592653-2.6-1.40.25 (TeX Live 2023) kpathsea version 6.3.5', 'subject': '', 'trapped': '/False', 'page': 76, 'keywords': '', 'creator': 'LaTeX with hyperref', 'source': 'C:/Users/User/Desktop/AgenticAI2/data/llama2.pdf', 'title': ''}, page_content='Status This is a static model trained on an offline dataset. Future versions of the tuned\\nmodels will be released as we improve model safety with community feedback.\\nLicense A custom commercial license is available at:ai.meta.com/resources/\\nmodels-and-libraries/llama-downloads/\\nWhere to send com-\\nments\\nInstructions on how to provide feedback or comments on the model can be\\nfound in the model README, or by opening an issue in the GitHub repository\\n(https://github.com/facebookresearch/llama/).'),\n",
       " Document(metadata={'creationdate': '2023-07-20T00:30:36+00:00', 'ptex.fullbanner': 'This is pdfTeX, Version 3.141592653-2.6-1.40.25 (TeX Live 2023) kpathsea version 6.3.5', 'trapped': '/False', 'moddate': '2023-07-20T00:30:36+00:00', 'title': '', 'page_label': '47', 'keywords': '', 'total_pages': 77, 'author': '', 'producer': 'pdfTeX-1.40.25', 'page': 46, 'source': 'C:/Users/User/Desktop/AgenticAI2/data/llama2.pdf', 'subject': '', 'creator': 'LaTeX with hyperref'}, page_content='• Armand Joulin, Edouard Grave, Guillaume Lample, and Timothee Lacroix, members of the original\\nLlama team who helped get this work started.\\n• Drew Hamlin, Chantal Mora, and Aran Mun, who gave us some design input on the figures in the\\npaper.\\n• Vijai Mohan for the discussions about RLHF that inspired our Figure 20, and his contribution to the\\ninternal demo.\\n• Earlyreviewersofthispaper,whohelpedusimproveitsquality,includingMikeLewis,JoellePineau,'),\n",
       " Document(metadata={'source': 'C:/Users/User/Desktop/AgenticAI2/data/llama2.pdf', 'total_pages': 77, 'subject': '', 'page': 6, 'moddate': '2023-07-20T00:30:36+00:00', 'keywords': '', 'creationdate': '2023-07-20T00:30:36+00:00', 'creator': 'LaTeX with hyperref', 'ptex.fullbanner': 'This is pdfTeX, Version 3.141592653-2.6-1.40.25 (TeX Live 2023) kpathsea version 6.3.5', 'page_label': '7', 'trapped': '/False', 'title': '', 'producer': 'pdfTeX-1.40.25', 'author': ''}, page_content='2.3 Llama 2Pretrained Model Evaluation\\nIn this section, we report the results for theLlama 1and Llama 2base models, MosaicML Pretrained\\nTransformer(MPT)†† models,andFalcon(Almazroueietal.,2023)modelsonstandardacademicbenchmarks.\\nFor all the evaluations, we use our internal evaluations library. We reproduce results for the MPT and Falcon\\nmodels internally. For these models, we always pick the best score between our evaluation framework and\\nany publicly reported results.')]"
      ]
     },
     "execution_count": 163,
     "metadata": {},
     "output_type": "execute_result"
    }
   ],
   "source": [
    "retriever.invoke(\"llama model details ?\")"
   ]
  },
  {
   "cell_type": "code",
   "execution_count": 281,
   "id": "bc31dcd5",
   "metadata": {},
   "outputs": [],
   "source": [
    "from pydantic import BaseModel, Field\n",
    "from typing import TypedDict, Annotated, Sequence\n",
    "\n",
    "class TopicSelectionParser(BaseModel):\n",
    "    Topic:str=Field(description=\"Selected topic\")\n",
    "    Details:str=Field(description=\"Details of selected topic\")"
   ]
  },
  {
   "cell_type": "code",
   "execution_count": 282,
   "id": "2215fd5e",
   "metadata": {},
   "outputs": [
    {
     "data": {
      "text/plain": [
       "'The output should be formatted as a JSON instance that conforms to the JSON schema below.\\n\\nAs an example, for the schema {\"properties\": {\"foo\": {\"title\": \"Foo\", \"description\": \"a list of strings\", \"type\": \"array\", \"items\": {\"type\": \"string\"}}}, \"required\": [\"foo\"]}\\nthe object {\"foo\": [\"bar\", \"baz\"]} is a well-formatted instance of the schema. The object {\"properties\": {\"foo\": [\"bar\", \"baz\"]}} is not well-formatted.\\n\\nHere is the output schema:\\n```\\n{\"properties\": {\"Topic\": {\"description\": \"Selected topic\", \"title\": \"Topic\", \"type\": \"string\"}, \"Details\": {\"description\": \"Details of selected topic\", \"title\": \"Details\", \"type\": \"string\"}}, \"required\": [\"Topic\", \"Details\"]}\\n```'"
      ]
     },
     "execution_count": 282,
     "metadata": {},
     "output_type": "execute_result"
    }
   ],
   "source": [
    "from langchain.output_parsers import PydanticOutputParser\n",
    "parser=PydanticOutputParser(pydantic_object=TopicSelectionParser)\n",
    "parser.get_format_instructions()"
   ]
  },
  {
   "cell_type": "code",
   "execution_count": 283,
   "id": "d53ce30a",
   "metadata": {},
   "outputs": [],
   "source": [
    "from langchain_core.messages import BaseMessage\n",
    "import operator\n",
    "from typing import TypedDict, Sequence, Annotated, List\n",
    "\n",
    "class AgentState(TypedDict):\n",
    "    messages: List[str]"
   ]
  },
  {
   "cell_type": "code",
   "execution_count": 284,
   "id": "a37654d0",
   "metadata": {},
   "outputs": [],
   "source": [
    "from langchain_core.prompts import PromptTemplate\n",
    "from langchain_core.runnables import RunnablePassthrough\n",
    "from langchain_core.messages import HumanMessage, AIMessage"
   ]
  },
  {
   "cell_type": "code",
   "execution_count": 285,
   "id": "77734ec4",
   "metadata": {},
   "outputs": [],
   "source": [
    "from langchain_core.prompts import PromptTemplate\n",
    "from langchain_core.messages import AIMessage\n",
    "\n",
    "def supervisorNode(state: AgentState):\n",
    "    input_query = state[\"messages\"][-1]\n",
    "    print(\"Input Query\", input_query)\n",
    "\n",
    "    template = \"\"\"\n",
    "Your task is to classify the given user input query into one of the following categories: [LLAMA_BASED_INPUT_QUERY, LATEST_DETAILS_INPUT_QUERY, YOUTUBE_VIDEOS_INPUT_QUERY, NOT_RELATED].\n",
    "Respond using the following JSON format:\n",
    "{format_instructions}\n",
    "User input query: {input_query}\n",
    "\"\"\"\n",
    "\n",
    "    prompt = PromptTemplate(\n",
    "        template=template,\n",
    "        input_variables=[\"input_query\"],\n",
    "        partial_variables={\"format_instructions\": parser.get_format_instructions()}\n",
    "    )\n",
    "\n",
    "    chain = prompt | model | parser\n",
    "    supervisor_node_response = chain.invoke({\"input_query\": input_query})\n",
    "\n",
    "    return {\n",
    "        \"messages\": [\n",
    "            input_query,\n",
    "            supervisor_node_response.Topic,\n",
    "        ]\n",
    "    }\n"
   ]
  },
  {
   "cell_type": "code",
   "execution_count": 286,
   "id": "9158a7e6",
   "metadata": {},
   "outputs": [],
   "source": [
    "def supervisorRouterNode(state: AgentState) -> str:\n",
    "    print(\"Router\")\n",
    "    classification = state[\"messages\"][-1]\n",
    "    print(\"Routing based on:\", classification) \n",
    "\n",
    "    # Route based on content\n",
    "    if classification == \"LLAMA_BASED_INPUT_QUERY\":\n",
    "        return \"LLAMA RAG CALL\"\n",
    "    elif classification == \"LATEST_DETAILS_INPUT_QUERY\":\n",
    "        return \"WEB SEARCH CALL\"\n",
    "    else:\n",
    "        return \"LLM CALL\"\n"
   ]
  },
  {
   "cell_type": "code",
   "execution_count": 287,
   "id": "863b0d82",
   "metadata": {},
   "outputs": [],
   "source": [
    "def format_docs(docs):\n",
    "    return \"\\n\\n\".join(doc.page_content for doc in docs)"
   ]
  },
  {
   "cell_type": "code",
   "execution_count": 308,
   "id": "71b0ac68",
   "metadata": {},
   "outputs": [],
   "source": [
    "from langchain_core.output_parsers import StrOutputParser"
   ]
  },
  {
   "cell_type": "code",
   "execution_count": 310,
   "id": "a2c80f72",
   "metadata": {},
   "outputs": [],
   "source": [
    "def llama_rag_call(state: AgentState)->AgentState:\n",
    "    print(\"LLAMA RAG CALL\")\n",
    "    question=state[\"messages\"][-2]\n",
    "    print(\"RAG question\", question)\n",
    "    promptData= PromptTemplate(\n",
    "    template=\"\"\"You are an assistant for question-answering tasks. Use the following pieces of retrieved context to answer the question. If you don't know the answer, just say that you don't know. Use three sentences maximum and keep the answer concise.\\nQuestion: {question} \\nContext: {context} \\nAnswer:\"\"\",\n",
    "    input_variables=['context','question'])\n",
    "    rag_chain=(\n",
    "        {\"context\":retriever | format_docs, \"question\": RunnablePassthrough() }\n",
    "        | promptData\n",
    "        | model\n",
    "        | StrOutputParser()\n",
    "    )\n",
    "    state[\"messages\"].append(question)\n",
    "    result=rag_chain.invoke(question)\n",
    "    state[\"messages\"].append(result)\n",
    "    return state\n"
   ]
  },
  {
   "cell_type": "code",
   "execution_count": 311,
   "id": "83cae669",
   "metadata": {},
   "outputs": [],
   "source": [
    "from langchain_community.tools import WikipediaQueryRun\n",
    "from langchain_community.utilities import WikipediaAPIWrapper\n",
    "\n",
    "def web_search_call(state: AgentState)-> AgentState:\n",
    "    print(\"WEB SEARCH CALL\")\n",
    "    question=state[\"messages\"][-2]\n",
    "    print(\"question\", question)\n",
    "    api_wrapper=WikipediaAPIWrapper(top_k_results=1, doc_content_chars_max=700)\n",
    "    wikiTool=WikipediaQueryRun(api_wrapper=api_wrapper)\n",
    "    result= wikiTool.invoke({\"query\":question})\n",
    "    state[\"messages\"].append(question)\n",
    "    results =[]\n",
    "    results.append(result)\n",
    "    state[\"messages\"].append(result)\n",
    "    return state\n"
   ]
  },
  {
   "cell_type": "code",
   "execution_count": 312,
   "id": "ab9f9cdd",
   "metadata": {},
   "outputs": [],
   "source": [
    "from langchain_community.tools import YouTubeSearchTool\n",
    "def youtube_search_call(state: AgentState):\n",
    "    print(\"YOUTUBE SEARCH CALL\")\n",
    "    question=state[\"messages\"][-2]\n",
    "    print(\"question\", question)\n",
    "    tool=YouTubeSearchTool()\n",
    "    result=tool.invoke(question)\n",
    "    return result"
   ]
  },
  {
   "cell_type": "code",
   "execution_count": 313,
   "id": "5c5e9d9f",
   "metadata": {},
   "outputs": [],
   "source": [
    "def llm_call(state: AgentState):\n",
    "    print(\"LLMCALL\")\n",
    "    question=state[\"messages\"][-2]\n",
    "    print(\"question\", question)\n",
    "   \n",
    "    result= model.invoke(question)\n",
    "    print(result)\n",
    "    state[\"messages\"].append(question)\n",
    "    state[\"messages\"].append(result.content)\n",
    "    return state"
   ]
  },
  {
   "cell_type": "code",
   "execution_count": 294,
   "id": "ba183408",
   "metadata": {},
   "outputs": [],
   "source": [
    "from langgraph.graph import StateGraph, END"
   ]
  },
  {
   "cell_type": "code",
   "execution_count": 314,
   "id": "87716c0e",
   "metadata": {},
   "outputs": [],
   "source": [
    "\n",
    "workflow=StateGraph(AgentState)"
   ]
  },
  {
   "cell_type": "code",
   "execution_count": 315,
   "id": "4f25303f",
   "metadata": {},
   "outputs": [
    {
     "data": {
      "text/plain": [
       "<langgraph.graph.state.StateGraph at 0x2210317d090>"
      ]
     },
     "execution_count": 315,
     "metadata": {},
     "output_type": "execute_result"
    }
   ],
   "source": [
    "workflow.add_node(\"Supervisor\", supervisorNode)\n",
    "workflow.add_node(\"Llama Rag Call\", llama_rag_call)\n",
    "workflow.add_node(\"Web Search Call\", web_search_call)\n",
    "#workflow.add_node(\"Youtube Search Call\", youtube_search_call)\n",
    "workflow.add_node(\"Llm Call\", llm_call)\n",
    "\n",
    "\n"
   ]
  },
  {
   "cell_type": "markdown",
   "id": "d0655fbf",
   "metadata": {},
   "source": [
    "def validate_response(state: AgentState):\n",
    "    print(\"Validator\")\n",
    "    response = state[\"messages\"][0]\n",
    "    print(\"Diljish_1\",response)\n",
    "\n",
    "    is_valid = True\n",
    "    if isinstance(response, str):\n",
    "        resp = response\n",
    "    elif hasattr(response, \"content\"):\n",
    "        resp = response.content\n",
    "    else:\n",
    "        resp = str(response)\n",
    "\n",
    "    print(\"resp\", resp)\n",
    "\n",
    "    if not resp.strip() or resp.lower() in {\"i don't know.\", \"not related\", \"not sufficient\", \"no data\", \"not available\"}:\n",
    "        is_valid = False\n",
    "\n",
    "    state[\"validation_result\"] = \"PASS\" if is_valid else \"FAIL\"\n",
    "    return state\n"
   ]
  },
  {
   "cell_type": "markdown",
   "id": "8bac02a7",
   "metadata": {},
   "source": [
    "workflow.add_node(\"Validator\", validate_response)"
   ]
  },
  {
   "cell_type": "code",
   "execution_count": 316,
   "id": "581e5d72",
   "metadata": {},
   "outputs": [
    {
     "data": {
      "text/plain": [
       "<langgraph.graph.state.StateGraph at 0x2210317d090>"
      ]
     },
     "execution_count": 316,
     "metadata": {},
     "output_type": "execute_result"
    }
   ],
   "source": [
    "\n",
    "workflow.set_entry_point(\"Supervisor\")"
   ]
  },
  {
   "cell_type": "code",
   "execution_count": 317,
   "id": "2b6f4758",
   "metadata": {},
   "outputs": [
    {
     "data": {
      "text/plain": [
       "<langgraph.graph.state.StateGraph at 0x2210317d090>"
      ]
     },
     "execution_count": 317,
     "metadata": {},
     "output_type": "execute_result"
    }
   ],
   "source": [
    "workflow.add_conditional_edges(\n",
    "    \"Supervisor\",\n",
    "    supervisorRouterNode,\n",
    "    {\n",
    "        \"LLAMA RAG CALL\": \"Llama Rag Call\",\n",
    "        \"WEB SEARCH CALL\": \"Web Search Call\",\n",
    "       # \"YOUTUBE SEARCH CALL\": \"Youtube Search Call\",\n",
    "        \"LLM CALL\": \"Llm Call\",\n",
    "    }\n",
    ")"
   ]
  },
  {
   "cell_type": "code",
   "execution_count": 318,
   "id": "b3939983",
   "metadata": {},
   "outputs": [],
   "source": [
    "def input_validation_node(state: AgentState) -> AgentState:\n",
    "    print(\"VALIDATION NODE\")\n",
    "\n",
    "    result = state[\"messages\"][-1]\n",
    "    print(\"result\", result)\n",
    "    query= state[\"messages\"][-2]\n",
    "    print(\"query\", query)\n",
    "    print(\"Validating query:\", query)\n",
    "   \n",
    "    if len(query.strip()) < 5:\n",
    "        return {\n",
    "            \"messages\": state[\"messages\"] + [\"INVALID_INPUT\"]\n",
    "        }\n",
    "\n",
    "    return {\n",
    "        \"messages\": state[\"messages\"] + [\"VALID_INPUT\"]\n",
    "    }\n"
   ]
  },
  {
   "cell_type": "code",
   "execution_count": 319,
   "id": "49d397ac",
   "metadata": {},
   "outputs": [],
   "source": [
    "def validation_router_node(state: AgentState) -> str:\n",
    "    print(\"VALIDATION ROUTER\")\n",
    "    validation_result = state[\"messages\"][-1]\n",
    "    print(\"Test\", state[\"messages\"][-2])\n",
    "    if \"Please provide me with more context\" in state[\"messages\"][-2]:\n",
    "        validation_result= \"INVALID_INPUT\"\n",
    "    if validation_result == \"VALID_INPUT\":\n",
    "        return \"Exit\"\n",
    "    \n",
    "    print(\"Test4\", state[\"messages\"][-4])\n",
    "    print(\"Test3\", state[\"messages\"][-3])\n",
    "    state[\"messages\"].append(state[\"messages\"][-3])\n",
    "    print(state[\"messages\"][-4])\n",
    "    return \"Fallback\"\n"
   ]
  },
  {
   "cell_type": "code",
   "execution_count": 320,
   "id": "2418a8c4",
   "metadata": {},
   "outputs": [
    {
     "data": {
      "text/plain": [
       "<langgraph.graph.state.StateGraph at 0x2210317d090>"
      ]
     },
     "execution_count": 320,
     "metadata": {},
     "output_type": "execute_result"
    }
   ],
   "source": [
    "workflow.add_conditional_edges(\n",
    "    \"Validation\",\n",
    "    validation_router_node,\n",
    "    {\n",
    "        \"Fallback\": \"Fallback\",\n",
    "        \"Exit\": END\n",
    "    }\n",
    ")"
   ]
  },
  {
   "cell_type": "code",
   "execution_count": 321,
   "id": "390cb7ab",
   "metadata": {},
   "outputs": [],
   "source": [
    "def fallback_node(state: AgentState) -> AgentState:\n",
    "    question=state[\"messages\"][-1]\n",
    "    \n",
    "    result_from_model=model.invoke(question)\n",
    "    rag_docs = retriever.invoke(question)\n",
    "    rag_result = \"\\n\\n\".join(doc.page_content for doc in rag_docs)\n",
    "\n",
    "    return {\n",
    "        \"messages\": state[\"messages\"] + [result_from_model.content, rag_result]\n",
    "    }\n"
   ]
  },
  {
   "cell_type": "code",
   "execution_count": 322,
   "id": "954898af",
   "metadata": {},
   "outputs": [
    {
     "data": {
      "text/plain": [
       "<langgraph.graph.state.StateGraph at 0x2210317d090>"
      ]
     },
     "execution_count": 322,
     "metadata": {},
     "output_type": "execute_result"
    }
   ],
   "source": [
    "workflow.add_node(\"Validation\", input_validation_node)\n",
    "workflow.add_node(\"Fallback\", fallback_node)"
   ]
  },
  {
   "cell_type": "markdown",
   "id": "9d5076e2",
   "metadata": {},
   "source": [
    "workflow.add_edge(\"Llama Rag Call\", \"Validation\")\n",
    "workflow.add_edge(\"Web Search Call\", \"Validator\")\n",
    "workflow.add_edge(\"Youtube Search Call\", \"Validator\")\n",
    "workflow.add_edge(\"Llm Call\", \"Validator\")"
   ]
  },
  {
   "cell_type": "code",
   "execution_count": 323,
   "id": "fffc6f47",
   "metadata": {},
   "outputs": [
    {
     "data": {
      "text/plain": [
       "<langgraph.graph.state.StateGraph at 0x2210317d090>"
      ]
     },
     "execution_count": 323,
     "metadata": {},
     "output_type": "execute_result"
    }
   ],
   "source": [
    "workflow.add_edge(\"Llama Rag Call\", \"Validation\")\n",
    "workflow.add_edge(\"Web Search Call\", \"Validation\")\n",
    "#workflow.add_edge(\"Youtube Search Call\", END)\n",
    "workflow.add_edge(\"Llm Call\", \"Validation\")\n",
    "workflow.add_edge(\"Fallback\", END)\n"
   ]
  },
  {
   "cell_type": "markdown",
   "id": "3c0c2ec9",
   "metadata": {},
   "source": [
    "def validatorRouter(state: AgentState):\n",
    "    print(state[\"messages\"])\n",
    "    result = state.get(\"validation_result\")\n",
    "    print (\"DDDD\", result)\n",
    "    return \"PASS\" if result == \"PASS\" else \"FAIL\""
   ]
  },
  {
   "cell_type": "markdown",
   "id": "18d2d6e1",
   "metadata": {},
   "source": [
    "workflow.add_conditional_edges(\n",
    "    \"Validator\",\n",
    "    validatorRouter,\n",
    "    {\n",
    "        \"PASS\" : END,\n",
    "        \"FAIL\" : \"Supervisor\"\n",
    "    }\n",
    ")"
   ]
  },
  {
   "cell_type": "code",
   "execution_count": 324,
   "id": "8f9c61da",
   "metadata": {},
   "outputs": [
    {
     "data": {
      "image/png": "[encoded data removed]",
      "text/plain": [
       "<langgraph.graph.state.CompiledStateGraph object at 0x0000022102F97AC0>"
      ]
     },
     "execution_count": 324,
     "metadata": {},
     "output_type": "execute_result"
    }
   ],
   "source": [
    "workflow.compile()"
   ]
  },
  {
   "cell_type": "code",
   "execution_count": 325,
   "id": "2e0ef8b4",
   "metadata": {},
   "outputs": [],
   "source": [
    "app=workflow.compile()"
   ]
  },
  {
   "cell_type": "code",
   "execution_count": 326,
   "id": "6537e43c",
   "metadata": {},
   "outputs": [],
   "source": [
    "state = {\"messages\": [\"what is what\"]}"
   ]
  },
  {
   "cell_type": "code",
   "execution_count": 327,
   "id": "88381840",
   "metadata": {},
   "outputs": [
    {
     "name": "stdout",
     "output_type": "stream",
     "text": [
      "Input Query what is what\n",
      "Router\n",
      "Routing based on: NOT_RELATED\n",
      "LLMCALL\n",
      "question what is what\n",
      "content='Please rephrase your question! \\n\\n\"What is what\" doesn\\'t give me enough information to understand what you\\'re asking. \\n\\nFor example, you could ask:\\n\\n* **\"What is the capital of France?\"**\\n* **\"What is the meaning of life?\"**\\n* **\"What is your favorite color?\"**\\n\\n\\nLet me know what you\\'d like to know, and I\\'ll do my best to help! 😊 \\n' additional_kwargs={} response_metadata={'token_usage': {'completion_tokens': 99, 'prompt_tokens': 12, 'total_tokens': 111, 'completion_time': 0.18, 'prompt_time': 0.001909846, 'queue_time': 0.241536404, 'total_time': 0.181909846}, 'model_name': 'gemma2-9b-it', 'system_fingerprint': 'fp_10c08bf97d', 'finish_reason': 'stop', 'logprobs': None} id='run--3a137ea1-159e-404d-857b-3c2baca4a999-0' usage_metadata={'input_tokens': 12, 'output_tokens': 99, 'total_tokens': 111}\n",
      "VALIDATION NODE\n",
      "result Please rephrase your question! \n",
      "\n",
      "\"What is what\" doesn't give me enough information to understand what you're asking. \n",
      "\n",
      "For example, you could ask:\n",
      "\n",
      "* **\"What is the capital of France?\"**\n",
      "* **\"What is the meaning of life?\"**\n",
      "* **\"What is your favorite color?\"**\n",
      "\n",
      "\n",
      "Let me know what you'd like to know, and I'll do my best to help! 😊 \n",
      "\n",
      "query what is what\n",
      "Validating query: what is what\n",
      "VALIDATION ROUTER\n",
      "Test Please rephrase your question! \n",
      "\n",
      "\"What is what\" doesn't give me enough information to understand what you're asking. \n",
      "\n",
      "For example, you could ask:\n",
      "\n",
      "* **\"What is the capital of France?\"**\n",
      "* **\"What is the meaning of life?\"**\n",
      "* **\"What is your favorite color?\"**\n",
      "\n",
      "\n",
      "Let me know what you'd like to know, and I'll do my best to help! 😊 \n",
      "\n"
     ]
    },
    {
     "data": {
      "text/plain": [
       "{'messages': ['what is what',\n",
       "  'NOT_RELATED',\n",
       "  'what is what',\n",
       "  'Please rephrase your question! \\n\\n\"What is what\" doesn\\'t give me enough information to understand what you\\'re asking. \\n\\nFor example, you could ask:\\n\\n* **\"What is the capital of France?\"**\\n* **\"What is the meaning of life?\"**\\n* **\"What is your favorite color?\"**\\n\\n\\nLet me know what you\\'d like to know, and I\\'ll do my best to help! 😊 \\n',\n",
       "  'VALID_INPUT']}"
      ]
     },
     "execution_count": 327,
     "metadata": {},
     "output_type": "execute_result"
    }
   ],
   "source": [
    "app.invoke(state)"
   ]
  },
  {
   "cell_type": "code",
   "execution_count": 328,
   "id": "23ad298d",
   "metadata": {},
   "outputs": [
    {
     "name": "stdout",
     "output_type": "stream",
     "text": [
      "Input Query what is llama2 model\n",
      "Router\n",
      "Routing based on: LLAMA_BASED_INPUT_QUERY\n",
      "LLAMA RAG CALL\n",
      "RAG question what is llama2 model\n",
      "VALIDATION NODE\n",
      "result Llama 2 is a new large language model (LLM) released by Meta.  It is a static model trained on a dataset that is no longer being updated. Llama 2 has been tested primarily in English and may produce inaccurate or objectionable responses. \n",
      "\n",
      "query what is llama2 model\n",
      "Validating query: what is llama2 model\n",
      "VALIDATION ROUTER\n",
      "Test Llama 2 is a new large language model (LLM) released by Meta.  It is a static model trained on a dataset that is no longer being updated. Llama 2 has been tested primarily in English and may produce inaccurate or objectionable responses. \n",
      "\n"
     ]
    },
    {
     "data": {
      "text/plain": [
       "{'messages': ['what is llama2 model',\n",
       "  'LLAMA_BASED_INPUT_QUERY',\n",
       "  'what is llama2 model',\n",
       "  'Llama 2 is a new large language model (LLM) released by Meta.  It is a static model trained on a dataset that is no longer being updated. Llama 2 has been tested primarily in English and may produce inaccurate or objectionable responses. \\n',\n",
       "  'VALID_INPUT']}"
      ]
     },
     "execution_count": 328,
     "metadata": {},
     "output_type": "execute_result"
    }
   ],
   "source": [
    "state = {\"messages\": [\"what is llama2 model\"]}\n",
    "app.invoke(state)"
   ]
  },
  {
   "cell_type": "code",
   "execution_count": 329,
   "id": "46f3be10",
   "metadata": {},
   "outputs": [
    {
     "name": "stdout",
     "output_type": "stream",
     "text": [
      "Input Query cristiano youtube channle\n",
      "Router\n",
      "Routing based on: YOUTUBE_VIDEOS_INPUT_QUERY\n",
      "LLMCALL\n",
      "question cristiano youtube channle\n",
      "content=\"Cristiano Ronaldo has an official YouTube channel! \\n\\nYou can find it here:  **https://www.youtube.com/cristiano** \\n\\nOn his channel, you'll find a variety of content, including:\\n\\n* **Behind-the-scenes footage:** Get a glimpse into Ronaldo's life on and off the field.\\n* **Training highlights:** Watch Ronaldo's intense workouts and skills.\\n* **Interviews and Q&As:** Hear from Ronaldo himself about his career, inspirations, and more.\\n* **Match highlights and reactions:** See Ronaldo's best moments from his matches and his reactions to them.\\n* **Family and lifestyle content:** Get to know Ronaldo's family and see how he spends his time away from football.\\n\\n\\nLet me know if you have any other questions! \\n\" additional_kwargs={} response_metadata={'token_usage': {'completion_tokens': 171, 'prompt_tokens': 15, 'total_tokens': 186, 'completion_time': 0.310909091, 'prompt_time': 0.001946289, 'queue_time': 0.29119484100000004, 'total_time': 0.31285538}, 'model_name': 'gemma2-9b-it', 'system_fingerprint': 'fp_10c08bf97d', 'finish_reason': 'stop', 'logprobs': None} id='run--7dfca3bc-3f7c-4dcb-83ca-7891e8cd4c3c-0' usage_metadata={'input_tokens': 15, 'output_tokens': 171, 'total_tokens': 186}\n",
      "VALIDATION NODE\n",
      "result Cristiano Ronaldo has an official YouTube channel! \n",
      "\n",
      "You can find it here:  **https://www.youtube.com/cristiano** \n",
      "\n",
      "On his channel, you'll find a variety of content, including:\n",
      "\n",
      "* **Behind-the-scenes footage:** Get a glimpse into Ronaldo's life on and off the field.\n",
      "* **Training highlights:** Watch Ronaldo's intense workouts and skills.\n",
      "* **Interviews and Q&As:** Hear from Ronaldo himself about his career, inspirations, and more.\n",
      "* **Match highlights and reactions:** See Ronaldo's best moments from his matches and his reactions to them.\n",
      "* **Family and lifestyle content:** Get to know Ronaldo's family and see how he spends his time away from football.\n",
      "\n",
      "\n",
      "Let me know if you have any other questions! \n",
      "\n",
      "query cristiano youtube channle\n",
      "Validating query: cristiano youtube channle\n",
      "VALIDATION ROUTER\n",
      "Test Cristiano Ronaldo has an official YouTube channel! \n",
      "\n",
      "You can find it here:  **https://www.youtube.com/cristiano** \n",
      "\n",
      "On his channel, you'll find a variety of content, including:\n",
      "\n",
      "* **Behind-the-scenes footage:** Get a glimpse into Ronaldo's life on and off the field.\n",
      "* **Training highlights:** Watch Ronaldo's intense workouts and skills.\n",
      "* **Interviews and Q&As:** Hear from Ronaldo himself about his career, inspirations, and more.\n",
      "* **Match highlights and reactions:** See Ronaldo's best moments from his matches and his reactions to them.\n",
      "* **Family and lifestyle content:** Get to know Ronaldo's family and see how he spends his time away from football.\n",
      "\n",
      "\n",
      "Let me know if you have any other questions! \n",
      "\n"
     ]
    },
    {
     "data": {
      "text/plain": [
       "{'messages': ['cristiano youtube channle',\n",
       "  'YOUTUBE_VIDEOS_INPUT_QUERY',\n",
       "  'cristiano youtube channle',\n",
       "  \"Cristiano Ronaldo has an official YouTube channel! \\n\\nYou can find it here:  **https://www.youtube.com/cristiano** \\n\\nOn his channel, you'll find a variety of content, including:\\n\\n* **Behind-the-scenes footage:** Get a glimpse into Ronaldo's life on and off the field.\\n* **Training highlights:** Watch Ronaldo's intense workouts and skills.\\n* **Interviews and Q&As:** Hear from Ronaldo himself about his career, inspirations, and more.\\n* **Match highlights and reactions:** See Ronaldo's best moments from his matches and his reactions to them.\\n* **Family and lifestyle content:** Get to know Ronaldo's family and see how he spends his time away from football.\\n\\n\\nLet me know if you have any other questions! \\n\",\n",
       "  'VALID_INPUT']}"
      ]
     },
     "execution_count": 329,
     "metadata": {},
     "output_type": "execute_result"
    }
   ],
   "source": [
    "state = {\"messages\": [\"cristiano youtube channle\"]}\n",
    "app.invoke(state)"
   ]
  }
 ],
 "metadata": {
  "kernelspec": {
   "display_name": "Python 3",
   "language": "python",
   "name": "python3"
  },
  "language_info": {
   "codemirror_mode": {
    "name": "ipython",
    "version": 3
   },
   "file_extension": ".py",
   "mimetype": "text/x-python",
   "name": "python",
   "nbconvert_exporter": "python",
   "pygments_lexer": "ipython3",
   "version": "3.13.0"
  }
 },
 "nbformat": 4,
 "nbformat_minor": 5
}
